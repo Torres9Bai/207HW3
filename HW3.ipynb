{
 "cells": [
  {
   "cell_type": "code",
   "execution_count": null,
   "metadata": {},
   "outputs": [],
   "source": [
    "Team: 8\n",
    "Names: Yushen Bai, Amartya B. "
   ]
  },
  {
   "cell_type": "code",
   "execution_count": 1,
   "metadata": {},
   "outputs": [],
   "source": [
    "import robot\n"
   ]
  },
  {
   "cell_type": "code",
   "execution_count": 2,
   "metadata": {},
   "outputs": [
    {
     "name": "stdout",
     "output_type": "stream",
     "text": [
      "Connected!\n",
      "here2\n"
     ]
    }
   ],
   "source": [
    "leg = robot.Leg()"
   ]
  },
  {
   "cell_type": "code",
   "execution_count": 3,
   "metadata": {},
   "outputs": [
    {
     "data": {
      "text/plain": [
       "(0.498232818208635*pi, 0.504336403217167*pi)"
      ]
     },
     "execution_count": 3,
     "metadata": {},
     "output_type": "execute_result"
    }
   ],
   "source": [
    "leg.get_joint_pos()"
   ]
  },
  {
   "cell_type": "code",
   "execution_count": null,
   "metadata": {},
   "outputs": [],
   "source": [
    "leg.set_home()"
   ]
  },
  {
   "cell_type": "code",
   "execution_count": 4,
   "metadata": {},
   "outputs": [],
   "source": [
    "import sympy\n",
    "from sympy import symbols\n",
    "from sympy import sin, cos, asin, acos, pi\n"
   ]
  },
  {
   "cell_type": "code",
   "execution_count": 5,
   "metadata": {},
   "outputs": [],
   "source": [
    "leg.move_home()"
   ]
  },
  {
   "cell_type": "code",
   "execution_count": null,
   "metadata": {},
   "outputs": [],
   "source": [
    "leg.set_joint_pos(2*pi/3,pi/3)"
   ]
  },
  {
   "cell_type": "code",
   "execution_count": null,
   "metadata": {},
   "outputs": [],
   "source": [
    "leg.set_joint_pos(3*pi/4,pi/4)"
   ]
  },
  {
   "cell_type": "code",
   "execution_count": null,
   "metadata": {},
   "outputs": [],
   "source": [
    "import time\n",
    "for i in range (1):\n",
    "    leg.set_joint_pos(0.7*pi,0.3*pi)\n",
    "    time.sleep(0.3)\n",
    "    leg.move_home()\n",
    "    time.sleep(.3)\n",
    "\n",
    "#leg.set_joint_pos(1.17*pi,-0.17*pi)\n",
    "#time.sleep(0.4)\n",
    "#leg.move_home()\n",
    "#time.sleep(.2)\n",
    "\n",
    "for i in range (1):\n",
    "    leg.set_joint_pos(0.8*pi,0.2*pi)\n",
    "    time.sleep(0.4)\n",
    "    leg.move_home()\n",
    "    time.sleep(.3)\n",
    "    \n",
    "for i in range (1):\n",
    "    leg.set_joint_pos(0.9*pi,0.1*pi)\n",
    "    time.sleep(0.5)\n",
    "    leg.move_home()\n",
    "    time.sleep(.4)\n",
    "    \n",
    "for i in range (1):\n",
    "    leg.set_joint_pos(0.99*pi,0.01*pi)\n",
    "    time.sleep(0.5)\n",
    "    leg.move_home()\n",
    "    time.sleep(.3)\n",
    "    \n",
    "for i in range (1):\n",
    "    leg.set_joint_pos(0.99*pi,0.01*pi)\n",
    "    time.sleep(0.3)\n",
    "    leg.move_home()\n",
    "    time.sleep(.2)"
   ]
  },
  {
   "cell_type": "code",
   "execution_count": null,
   "metadata": {},
   "outputs": [],
   "source": [
    "for i in range (7):\n",
    "    leg.set_joint_pos(0.5*pi+i*0.1*pi,0.5*pi-i*0.1*pi)\n",
    "    time.sleep(0.4)\n",
    "    leg.move_home()\n",
    "    time.sleep(.3)"
   ]
  },
  {
   "cell_type": "code",
   "execution_count": 19,
   "metadata": {},
   "outputs": [],
   "source": [
    "import time\n",
    "for i in range (3):\n",
    "    leg.set_joint_pos(0.99*pi,0.01*pi)\n",
    "    time.sleep(0.5)\n",
    "    leg.move_home()\n",
    "    time.sleep(.35)\n",
    "\n"
   ]
  },
  {
   "cell_type": "code",
   "execution_count": 15,
   "metadata": {},
   "outputs": [],
   "source": [
    "for i in range (6):\n",
    "    leg.set_joint_pos(0.99*pi,0.01*pi)\n",
    "    time.sleep(0.4)\n",
    "    leg.move_home()\n",
    "    time.sleep(.35)"
   ]
  },
  {
   "cell_type": "code",
   "execution_count": 20,
   "metadata": {},
   "outputs": [],
   "source": [
    "from IPython.lib.display import YouTubeVideo # for youtube videos"
   ]
  },
  {
   "cell_type": "code",
   "execution_count": 21,
   "metadata": {},
   "outputs": [
    {
     "data": {
      "image/jpeg": "[encoded data removed]",
      "text/html": [
       "\n",
       "        <iframe\n",
       "            width=\"400\"\n",
       "            height=\"300\"\n",
       "            src=\"https://www.youtube.com/embed/TVfCwFl0ONM\"\n",
       "            frameborder=\"0\"\n",
       "            allowfullscreen\n",
       "        ></iframe>\n",
       "        "
      ],
      "text/plain": [
       "<IPython.lib.display.YouTubeVideo at 0x9731588>"
      ]
     },
     "execution_count": 21,
     "metadata": {},
     "output_type": "execute_result"
    }
   ],
   "source": [
    "YouTubeVideo('TVfCwFl0ONM')"
   ]
  },
  {
   "cell_type": "code",
   "execution_count": null,
   "metadata": {},
   "outputs": [],
   "source": []
  }
 ],
 "metadata": {
  "kernelspec": {
   "display_name": "Python 3",
   "language": "python",
   "name": "python3"
  },
  "language_info": {
   "codemirror_mode": {
    "name": "ipython",
    "version": 3
   },
   "file_extension": ".py",
   "mimetype": "text/x-python",
   "name": "python",
   "nbconvert_exporter": "python",
   "pygments_lexer": "ipython3",
   "version": "3.6.4"
  }
 },
 "nbformat": 4,
 "nbformat_minor": 2
}
